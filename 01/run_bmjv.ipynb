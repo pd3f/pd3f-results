{
 "cells": [
  {
   "cell_type": "code",
   "execution_count": 1,
   "metadata": {},
   "outputs": [],
   "source": [
    "%reload_ext autoreload\n",
    "%autoreload 2\n",
    "\n",
    "import logging\n",
    "import sys\n",
    "from itertools import product\n",
    "from pathlib import Path\n",
    "\n",
    "\n",
    "# logging.basicConfig(stream=sys.stdout, level=logging.DEBUG)"
   ]
  },
  {
   "cell_type": "code",
   "execution_count": 2,
   "metadata": {},
   "outputs": [],
   "source": [
    "from pd3f import extract\n",
    "from tqdm import tqdm\n",
    "from joblib import Parallel, delayed"
   ]
  },
  {
   "cell_type": "code",
   "execution_count": null,
   "metadata": {},
   "outputs": [],
   "source": [
    "! rm -rf ~/.cache/pd3f/dehyphen"
   ]
  },
  {
   "cell_type": "code",
   "execution_count": null,
   "metadata": {},
   "outputs": [],
   "source": [
    "data_folder = '/mnt/data/ptf_ddd/bmjv/proc_pdf/'\n",
    "version = '0.3.0'\n",
    "results_folder = f\"/mnt/data/ptf_ddd/bmjv/results/{version}/\""
   ]
  },
  {
   "cell_type": "code",
   "execution_count": null,
   "metadata": {},
   "outputs": [],
   "source": [
    "def work_on_one_folder(folder_name, experimental, fast, tables=False, force_gpu=True):\n",
    "    def to_work(f):\n",
    "        try:\n",
    "#         if True:\n",
    "            text, _ = extract(str(f), lang=\"multi-v0-fast\", experimental=experimental, tables=tables, force_gpu=force_gpu, fast=fast)\n",
    "            enc = f\"/ex_{experimental}/fa_{fast}/\"\n",
    "            Path(f'{results_folder}{folder_name}{enc}').mkdir(exist_ok=True, parents=True)\n",
    "\n",
    "            Path(f'{results_folder}{folder_name}{enc}{f.name}').with_suffix('.txt').write_text(text)\n",
    "        except Exception as e:\n",
    "            return f\"error {folder_name} {f} {e} \"\n",
    "        except AssertionError as e:\n",
    "            return f\"error {folder_name} {f} {e} \"\n",
    "\n",
    "    return Parallel(n_jobs=8)(delayed(to_work)(f) for f in tqdm(list(Path(f'{data_folder}{folder_name}/').glob(\"*.pdf\"))[:]))"
   ]
  },
  {
   "cell_type": "code",
   "execution_count": null,
   "metadata": {},
   "outputs": [],
   "source": [
    "raise_error = False\n",
    "all_errors = \"\"\n",
    "for x in product(['digital_en', 'digital_de', 'analog_en', 'analog_de'], [True, False], [True, False]):\n",
    "    print(*x)\n",
    "    errs = work_on_one_folder(*x)\n",
    "    errs = [x for x in errs if x is not None]\n",
    "    if len(errs) > 0:\n",
    "        print(errs)\n",
    "        if raise_error:\n",
    "            raise ValueError\n",
    "\n",
    "        all_errors += str(errs) + '\\n'\n",
    "\n"
   ]
  },
  {
   "cell_type": "code",
   "execution_count": 7,
   "metadata": {},
   "outputs": [
    {
     "data": {
      "text/plain": [
       "0"
      ]
     },
     "execution_count": 7,
     "metadata": {},
     "output_type": "execute_result"
    }
   ],
   "source": [
    "Path(results_folder + 'log.txt').write_text(all_errors)"
   ]
  },
  {
   "cell_type": "code",
   "execution_count": null,
   "metadata": {},
   "outputs": [],
   "source": []
  },
  {
   "cell_type": "code",
   "execution_count": null,
   "metadata": {},
   "outputs": [],
   "source": []
  }
 ],
 "metadata": {
  "kernelspec": {
   "display_name": "Python 3",
   "language": "python",
   "name": "python3"
  },
  "language_info": {
   "codemirror_mode": {
    "name": "ipython",
    "version": 3
   },
   "file_extension": ".py",
   "mimetype": "text/x-python",
   "name": "python",
   "nbconvert_exporter": "python",
   "pygments_lexer": "ipython3",
   "version": "3.8.3"
  }
 },
 "nbformat": 4,
 "nbformat_minor": 4
}
