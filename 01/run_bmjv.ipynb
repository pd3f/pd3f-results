{
 "cells": [
  {
   "cell_type": "code",
   "execution_count": 1,
   "metadata": {},
   "outputs": [],
   "source": [
    "%reload_ext autoreload\n",
    "%autoreload 2\n",
    "\n",
    "import logging\n",
    "import sys\n",
    "from itertools import product\n",
    "from pathlib import Path\n",
    "\n",
    "\n",
    "# logging.basicConfig(stream=sys.stdout, level=logging.DEBUG)"
   ]
  },
  {
   "cell_type": "code",
   "execution_count": 2,
   "metadata": {},
   "outputs": [],
   "source": [
    "from pd3f import extract\n",
    "from tqdm import tqdm\n",
    "from joblib import Parallel, delayed"
   ]
  },
  {
   "cell_type": "code",
   "execution_count": null,
   "metadata": {},
   "outputs": [],
   "source": [
    "! rm -rf ~/.cache/pd3f/dehyphen"
   ]
  },
  {
   "cell_type": "code",
   "execution_count": 3,
   "metadata": {},
   "outputs": [],
   "source": [
    "data_folder = '/mnt/data/ptf_ddd/bmjv/proc_pdf/'\n",
    "version = '0.3.0'\n",
    "results_folder = f\"/mnt/data/ptf_ddd/bmjv/results/{version}/\""
   ]
  },
  {
   "cell_type": "code",
   "execution_count": 4,
   "metadata": {},
   "outputs": [],
   "source": [
    "def work_on_one_folder(folder_name, experimental, fast, tables=False, force_gpu=True):\n",
    "    def to_work(f):\n",
    "        try:\n",
    "#         if True:\n",
    "            text, _ = extract(str(f), lang=\"multi-v0-fast\", experimental=experimental, tables=tables, force_gpu=force_gpu, fast=fast)\n",
    "            enc = f\"/ex_{experimental}/fa_{fast}/\"\n",
    "            Path(f'{results_folder}{folder_name}{enc}').mkdir(exist_ok=True, parents=True)\n",
    "\n",
    "            Path(f'{results_folder}{folder_name}{enc}{f.name}').with_suffix('.txt').write_text(text)\n",
    "        except Exception as e:\n",
    "            return f\"error {folder_name} {f} {e} \"\n",
    "        except AssertionError as e:\n",
    "            return f\"error {folder_name} {f} {e} \"\n",
    "\n",
    "    return Parallel(n_jobs=8)(delayed(to_work)(f) for f in tqdm(list(Path(f'{data_folder}{folder_name}/').glob(\"*.pdf\"))[:]))"
   ]
  },
  {
   "cell_type": "code",
   "execution_count": null,
   "metadata": {},
   "outputs": [
    {
     "name": "stdout",
     "output_type": "stream",
     "text": [
      "digital_en True True\n"
     ]
    },
    {
     "name": "stderr",
     "output_type": "stream",
     "text": [
      "100%|██████████| 19/19 [00:21<00:00,  1.14s/it]\n",
      "  0%|          | 0/19 [00:00<?, ?it/s]"
     ]
    },
    {
     "name": "stdout",
     "output_type": "stream",
     "text": [
      "digital_en True False\n"
     ]
    },
    {
     "name": "stderr",
     "output_type": "stream",
     "text": [
      "100%|██████████| 19/19 [00:04<00:00,  4.67it/s]\n",
      "  0%|          | 0/19 [00:00<?, ?it/s]"
     ]
    },
    {
     "name": "stdout",
     "output_type": "stream",
     "text": [
      "digital_en False True\n"
     ]
    },
    {
     "name": "stderr",
     "output_type": "stream",
     "text": [
      "100%|██████████| 19/19 [00:04<00:00,  4.69it/s]\n",
      "  0%|          | 0/19 [00:00<?, ?it/s]"
     ]
    },
    {
     "name": "stdout",
     "output_type": "stream",
     "text": [
      "digital_en False False\n"
     ]
    },
    {
     "name": "stderr",
     "output_type": "stream",
     "text": [
      "100%|██████████| 19/19 [00:04<00:00,  4.67it/s]\n",
      "  0%|          | 0/2100 [00:00<?, ?it/s]"
     ]
    },
    {
     "name": "stdout",
     "output_type": "stream",
     "text": [
      "digital_de True True\n"
     ]
    },
    {
     "name": "stderr",
     "output_type": "stream",
     "text": [
      "100%|██████████| 2100/2100 [23:43<00:00,  1.48it/s]\n",
      "  0%|          | 0/2100 [00:00<?, ?it/s]"
     ]
    },
    {
     "name": "stdout",
     "output_type": "stream",
     "text": [
      "digital_de True False\n"
     ]
    },
    {
     "name": "stderr",
     "output_type": "stream",
     "text": [
      " 85%|████████▌ | 1792/2100 [21:15<03:50,  1.34it/s]"
     ]
    }
   ],
   "source": [
    "all_errors = []\n",
    "for x in product(['digital_en', 'digital_de', 'analog_en', 'analog_de'], [True, False], [True, False]):\n",
    "# for x in product(['digital_de', 'analog_de'], [True, False], [True, False]):\n",
    "    print(*x)\n",
    "    errs = work_on_one_folder(*x)\n",
    "    errs = [x for x in errs if x is not None]\n",
    "    if len(errs) > 0:\n",
    "        print(errs)\n",
    "#         raise ValueError"
   ]
  },
  {
   "cell_type": "code",
   "execution_count": null,
   "metadata": {},
   "outputs": [],
   "source": []
  },
  {
   "cell_type": "code",
   "execution_count": null,
   "metadata": {},
   "outputs": [],
   "source": []
  },
  {
   "cell_type": "code",
   "execution_count": null,
   "metadata": {},
   "outputs": [],
   "source": []
  },
  {
   "cell_type": "code",
   "execution_count": null,
   "metadata": {},
   "outputs": [],
   "source": []
  }
 ],
 "metadata": {
  "kernelspec": {
   "display_name": "Python 3",
   "language": "python",
   "name": "python3"
  },
  "language_info": {
   "codemirror_mode": {
    "name": "ipython",
    "version": 3
   },
   "file_extension": ".py",
   "mimetype": "text/x-python",
   "name": "python",
   "nbconvert_exporter": "python",
   "pygments_lexer": "ipython3",
   "version": "3.8.3"
  }
 },
 "nbformat": 4,
 "nbformat_minor": 4
}
